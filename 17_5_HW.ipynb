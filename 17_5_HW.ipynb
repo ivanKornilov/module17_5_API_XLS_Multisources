{
  "nbformat": 4,
  "nbformat_minor": 0,
  "metadata": {
    "colab": {
      "provenance": []
    },
    "kernelspec": {
      "name": "python3",
      "display_name": "Python 3"
    },
    "language_info": {
      "name": "python"
    }
  },
  "cells": [
    {
      "cell_type": "code",
      "execution_count": 1,
      "metadata": {
        "id": "rwMcZ4pkp0_z"
      },
      "outputs": [],
      "source": [
        "import requests\n",
        "import xml.etree.ElementTree as ET\n",
        "import pandas as pd\n",
        "import csv"
      ]
    },
    {
      "cell_type": "code",
      "source": [
        "result = requests.get('http://www.cbr.ru/scripts/XML_daily.asp?date_req=03/09/2023')"
      ],
      "metadata": {
        "id": "uPzjcbBetkIi"
      },
      "execution_count": 3,
      "outputs": []
    },
    {
      "cell_type": "code",
      "source": [
        "with open('cbr.xml', 'w') as f:\n",
        "  f.write(result.text)"
      ],
      "metadata": {
        "id": "wUpuncBNt27j"
      },
      "execution_count": 5,
      "outputs": []
    },
    {
      "cell_type": "code",
      "source": [
        "def export_xml_to_csv_func():\n",
        "  parser = ET.XMLParser(encoding=\"UTF-8\")\n",
        "  tree = ET.parse('cbr.xml', parser=parser)\n",
        "  root = tree.getroot()\n",
        "\n",
        "  with open('cbr.csv', 'w') as csv_file:\n",
        "    writer = csv.writer(csv_file, delimiter=',', quotechar='\"', quoting=csv.QUOTE_MINIMAL)\n",
        "    for Valute in root.findall('Valute'):\n",
        "      NumCode = Valute.find('NumCode').text\n",
        "      CharCode = Valute.find('CharCode').text\n",
        "      Nominal = Valute.find('Nominal').text\n",
        "      Name = Valute.find('Name').text\n",
        "      Value = Valute.find('Value').text\n",
        "      writer.writerow([root.attrib['Date']] + [Valute.attrib['ID']] + [NumCode] + [CharCode] + [Nominal] + [Name] + [Value.replace(',', '.')])\n",
        "\n",
        "export_xml_to_csv_func()\n",
        "\n",
        "df = pd.read_csv('cbr.csv', header=None)"
      ],
      "metadata": {
        "id": "hpVPP2oZuHC5"
      },
      "execution_count": null,
      "outputs": []
    },
    {
      "cell_type": "code",
      "source": [
        "rate_df = df.rename(columns={\n",
        "    0:'rate_dt',\n",
        "    2:'currency_id',\n",
        "    3:'currency_cd',\n",
        "    4:'nominal_qty',\n",
        "    6:'currency_rate'})[['rate_dt','currency_id','currency_cd', 'nominal_qty', 'currency_rate']]\n",
        "rate_df"
      ],
      "metadata": {
        "id": "tX_2a7qQxEaI"
      },
      "execution_count": null,
      "outputs": []
    },
    {
      "cell_type": "code",
      "source": [
        "rate_df"
      ],
      "metadata": {
        "id": "9_HMoEYG0FQj"
      },
      "execution_count": null,
      "outputs": []
    },
    {
      "cell_type": "code",
      "source": [
        "contracts_df = pd.read_excel('/17.5 CASE_CONTRACTS.xlsx', sheet_name = 'Лист1')\n",
        "contracts_df_fio = pd.read_excel('/17.5 CASE_CLIENTS.xlsx', sheet_name = 'Sheet')\n",
        "contracts_df_loses = pd.read_excel('/17. 5 CASE_LOSSES.xlsx', sheet_name = 'Лист1')"
      ],
      "metadata": {
        "id": "wN2otLYR1O-4"
      },
      "execution_count": 123,
      "outputs": []
    },
    {
      "cell_type": "code",
      "source": [
        "contracts = pd.merge(contracts_df, contracts_df_fio, on=\"client_id\", how = 'left')"
      ],
      "metadata": {
        "id": "w-H1POjI4WFP"
      },
      "execution_count": 124,
      "outputs": []
    },
    {
      "cell_type": "code",
      "source": [
        "contracts_plus_loses = pd.merge(contracts, contracts_df_loses, on=\"client_id\", how = 'left')"
      ],
      "metadata": {
        "id": "TS2Ouu-L6PxM"
      },
      "execution_count": 125,
      "outputs": []
    },
    {
      "cell_type": "code",
      "source": [
        "contracts_plus_loses['currency_name'] = contracts_plus_loses['currency_name'].replace('Доллар США', 'No_change')"
      ],
      "metadata": {
        "id": "qbu1_21o9345"
      },
      "execution_count": 127,
      "outputs": []
    },
    {
      "cell_type": "code",
      "source": [
        "contracts_plus_loses['currency_name'] = contracts_plus_loses['currency_name'].replace('Российский рубль', 'USD')"
      ],
      "metadata": {
        "id": "IT3psWcf-iZR"
      },
      "execution_count": 128,
      "outputs": []
    },
    {
      "cell_type": "code",
      "source": [
        "contracts_plus_loses = pd.merge(contracts_plus_loses, rate_df, left_on=\"currency_name\", right_on=\"currency_cd\", how = 'left')"
      ],
      "metadata": {
        "id": "tNmnexXpAoNn"
      },
      "execution_count": 129,
      "outputs": []
    },
    {
      "cell_type": "code",
      "source": [
        "contracts_plus_loses['currency_rate'] = contracts_plus_loses['currency_rate'].replace('NaN', 1)\n",
        "contracts_plus_loses['loss_payout_amt'] = contracts_plus_loses['loss_payout_amt'].replace('NaN', 0)"
      ],
      "metadata": {
        "id": "-5obl_WSKpsi"
      },
      "execution_count": 131,
      "outputs": []
    },
    {
      "cell_type": "code",
      "source": [
        "contracts_plus_loses['loss_payout_amt_USD'] = contracts_plus_loses['loss_payout_amt'] / contracts_plus_loses['currency_rate']"
      ],
      "metadata": {
        "id": "nU6f68amESpY"
      },
      "execution_count": 132,
      "outputs": []
    },
    {
      "cell_type": "code",
      "source": [
        "contracts_plus_loses.info()"
      ],
      "metadata": {
        "colab": {
          "base_uri": "https://localhost:8080/"
        },
        "id": "46ykwC_QMrCE",
        "outputId": "b7b9a0f7-4921-4c88-f998-7933dfbfc48c"
      },
      "execution_count": 133,
      "outputs": [
        {
          "output_type": "stream",
          "name": "stdout",
          "text": [
            "<class 'pandas.core.frame.DataFrame'>\n",
            "Int64Index: 3711 entries, 0 to 3710\n",
            "Data columns (total 24 columns):\n",
            " #   Column               Non-Null Count  Dtype  \n",
            "---  ------               --------------  -----  \n",
            " 0   contract_id          3711 non-null   int64  \n",
            " 1   contract_num         3711 non-null   object \n",
            " 2   product_name         3711 non-null   object \n",
            " 3   client_id            3711 non-null   int64  \n",
            " 4   contract_status      3711 non-null   object \n",
            " 5   currency_name        3711 non-null   object \n",
            " 6   duration             3711 non-null   int64  \n",
            " 7   country              3711 non-null   object \n",
            " 8   price                3711 non-null   int64  \n",
            " 9   insurance_amount     3711 non-null   int64  \n",
            " 10  last_name            3711 non-null   object \n",
            " 11  first_name           3693 non-null   object \n",
            " 12  middle_name          3453 non-null   object \n",
            " 13  age                  3711 non-null   int64  \n",
            " 14  sex                  3711 non-null   object \n",
            " 15  loss_id              45 non-null     float64\n",
            " 16  loss_name            45 non-null     object \n",
            " 17  loss_payout_amt      45 non-null     float64\n",
            " 18  rate_dt              3591 non-null   object \n",
            " 19  currency_id          3591 non-null   float64\n",
            " 20  currency_cd          3591 non-null   object \n",
            " 21  nominal_qty          3591 non-null   float64\n",
            " 22  currency_rate        3591 non-null   float64\n",
            " 23  loss_payout_amt_USD  43 non-null     float64\n",
            "dtypes: float64(6), int64(6), object(12)\n",
            "memory usage: 724.8+ KB\n"
          ]
        }
      ]
    },
    {
      "cell_type": "code",
      "source": [
        "contracts_plus_loses.drop(['rate_dt', 'currency_id', 'currency_cd', 'nominal_qty', 'loss_payout_amt', 'currency_rate'], axis=1, inplace=True)"
      ],
      "metadata": {
        "id": "7qN3biBYLjuC"
      },
      "execution_count": null,
      "outputs": []
    },
    {
      "cell_type": "code",
      "source": [
        "contracts_plus_loses.to_excel('contracts_plus_loses_dash_0409.xlsx')"
      ],
      "metadata": {
        "id": "OoFFTLoxL6o8"
      },
      "execution_count": 135,
      "outputs": []
    },
    {
      "cell_type": "code",
      "source": [],
      "metadata": {
        "id": "mgu5XXWxNgqg"
      },
      "execution_count": null,
      "outputs": []
    }
  ]
}